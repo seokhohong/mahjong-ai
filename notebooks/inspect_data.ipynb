{
 "cells": [
  {
   "cell_type": "code",
   "execution_count": 1,
   "id": "38a8d1a7-4cf7-487f-b09e-3ac9fb0d84a5",
   "metadata": {},
   "outputs": [],
   "source": [
    "import numpy as np\n",
    "import os.path\n",
    "from pathlib import Path"
   ]
  },
  {
   "cell_type": "code",
   "execution_count": 22,
   "id": "33370f89-794a-444d-a11d-ff1b72a18ac7",
   "metadata": {},
   "outputs": [],
   "source": [
    "training_dir = Path(os.getcwd()).parent / 'training_data'"
   ]
  },
  {
   "cell_type": "code",
   "execution_count": 23,
   "id": "b8a792dd-1569-4fa0-96c8-53815ce5b5cd",
   "metadata": {},
   "outputs": [],
   "source": [
    "datadict = np.load(training_dir / 'pure_policy_20250810_114152.npz', allow_pickle=True)"
   ]
  },
  {
   "cell_type": "code",
   "execution_count": 24,
   "id": "cb1c7757-2c91-467d-9d1d-3bfb2895adbf",
   "metadata": {},
   "outputs": [
    {
     "data": {
      "text/plain": [
       "KeysView(NpzFile 'C:\\\\Users\\\\SeokhoHong\\\\Documents\\\\mahjong-ai\\\\training_data\\\\pure_policy_20250810_114152.npz' with keys: states, y_flat, rewards, game_ids, step_ids...)"
      ]
     },
     "execution_count": 24,
     "metadata": {},
     "output_type": "execute_result"
    }
   ],
   "source": [
    "datadict.keys()"
   ]
  },
  {
   "cell_type": "code",
   "execution_count": 25,
   "id": "0e1af926-9846-44f3-87e9-1fb1a3533da0",
   "metadata": {},
   "outputs": [
    {
     "data": {
      "text/plain": [
       "np.int64(1419433)"
      ]
     },
     "execution_count": 25,
     "metadata": {},
     "output_type": "execute_result"
    }
   ],
   "source": [
    "np.sum(datadict['legal_masks'])"
   ]
  },
  {
   "cell_type": "code",
   "execution_count": 27,
   "id": "d8da7de6-4c1d-436b-9a7e-8be29956c224",
   "metadata": {},
   "outputs": [
    {
     "data": {
      "text/plain": [
       "np.int64(10)"
      ]
     },
     "execution_count": 27,
     "metadata": {},
     "output_type": "execute_result"
    }
   ],
   "source": [
    "np.sum(datadict['legal_masks'][0])"
   ]
  },
  {
   "cell_type": "code",
   "execution_count": 30,
   "id": "2f4e2f8c-0edf-4e59-80fd-16053254f427",
   "metadata": {},
   "outputs": [
    {
     "data": {
      "text/plain": [
       "np.int64(0)"
      ]
     },
     "execution_count": 30,
     "metadata": {},
     "output_type": "execute_result"
    }
   ],
   "source": [
    "np.sum(datadict['rewards'] < 0)"
   ]
  },
  {
   "cell_type": "code",
   "execution_count": null,
   "id": "ae731349-2a34-4aa7-ad4a-4b3e3b37d456",
   "metadata": {},
   "outputs": [],
   "source": []
  }
 ],
 "metadata": {
  "kernelspec": {
   "display_name": "Python 3 (ipykernel)",
   "language": "python",
   "name": "python3"
  },
  "language_info": {
   "codemirror_mode": {
    "name": "ipython",
    "version": 3
   },
   "file_extension": ".py",
   "mimetype": "text/x-python",
   "name": "python",
   "nbconvert_exporter": "python",
   "pygments_lexer": "ipython3",
   "version": "3.12.10"
  }
 },
 "nbformat": 4,
 "nbformat_minor": 5
}
