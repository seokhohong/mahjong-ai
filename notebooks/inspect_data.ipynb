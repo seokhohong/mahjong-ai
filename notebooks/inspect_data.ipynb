{
 "cells": [
  {
   "cell_type": "code",
   "execution_count": 21,
   "id": "38a8d1a7-4cf7-487f-b09e-3ac9fb0d84a5",
   "metadata": {},
   "outputs": [],
   "source": [
    "import numpy as np\n",
    "import os.path\n",
    "from pathlib import Path"
   ]
  },
  {
   "cell_type": "code",
   "execution_count": 28,
   "id": "33370f89-794a-444d-a11d-ff1b72a18ac7",
   "metadata": {},
   "outputs": [],
   "source": [
    "training_dir = Path(os.getcwd()).parent / 'training_data'"
   ]
  },
  {
   "cell_type": "code",
   "execution_count": 32,
   "id": "b8a792dd-1569-4fa0-96c8-53815ce5b5cd",
   "metadata": {},
   "outputs": [],
   "source": [
    "datadict = np.load(training_dir / 'generation_0' / 'data' / 'test_training_data.npz')"
   ]
  },
  {
   "cell_type": "code",
   "execution_count": 35,
   "id": "0e1af926-9846-44f3-87e9-1fb1a3533da0",
   "metadata": {},
   "outputs": [
    {
     "data": {
      "text/plain": [
       "array([1.   , 1.   , 0.   , 1.   , 1.   , 0.   , 1.   , 0.   , 1.   ,\n",
       "       1.   , 0.   , 0.   , 1.   , 0.   , 1.   , 1.   , 0.   , 0.   ,\n",
       "       0.   , 0.   , 0.   , 0.   , 0.   , 0.   , 0.   , 0.   , 0.   ,\n",
       "       0.   , 0.   , 0.   , 0.   , 0.   , 0.   , 0.   , 0.   , 0.   ,\n",
       "       0.   , 0.   , 0.   , 0.   , 0.   , 0.   , 0.   , 0.   , 0.   ,\n",
       "       0.   , 0.   , 0.   , 0.   , 0.   , 0.   , 0.   , 0.   , 0.   ,\n",
       "       0.   , 0.   , 0.   , 0.   , 0.   , 0.   , 0.   , 0.   , 0.   ,\n",
       "       0.   , 0.   , 0.   , 0.   , 0.   , 0.   , 0.   , 0.   , 0.   ,\n",
       "       0.   , 0.375, 1.   , 0.   , 0.   , 0.   , 0.   , 0.   , 0.   ,\n",
       "       0.   , 0.   , 0.   , 0.   , 0.   , 0.   , 0.   , 0.   , 0.   ,\n",
       "       0.   , 0.   , 0.   , 0.   , 0.   , 0.   , 0.   , 0.   , 0.   ,\n",
       "       0.   , 0.   , 0.   ])"
      ]
     },
     "execution_count": 35,
     "metadata": {},
     "output_type": "execute_result"
    }
   ],
   "source": [
    "datadict['features'][0]"
   ]
  },
  {
   "cell_type": "code",
   "execution_count": 20,
   "id": "d8da7de6-4c1d-436b-9a7e-8be29956c224",
   "metadata": {},
   "outputs": [
    {
     "data": {
      "text/plain": [
       "False"
      ]
     },
     "execution_count": 20,
     "metadata": {},
     "output_type": "execute_result"
    }
   ],
   "source": [
    "os.path.exists('./training_data')"
   ]
  },
  {
   "cell_type": "code",
   "execution_count": null,
   "id": "2f4e2f8c-0edf-4e59-80fd-16053254f427",
   "metadata": {},
   "outputs": [],
   "source": []
  }
 ],
 "metadata": {
  "kernelspec": {
   "display_name": "Python 3 (ipykernel)",
   "language": "python",
   "name": "python3"
  },
  "language_info": {
   "codemirror_mode": {
    "name": "ipython",
    "version": 3
   },
   "file_extension": ".py",
   "mimetype": "text/x-python",
   "name": "python",
   "nbconvert_exporter": "python",
   "pygments_lexer": "ipython3",
   "version": "3.12.7"
  }
 },
 "nbformat": 4,
 "nbformat_minor": 5
}
